{
  "nbformat": 4,
  "nbformat_minor": 0,
  "metadata": {
    "colab": {
      "name": "DINÂMICA DNC - Day 2 - 17/07/2022.ipynb",
      "provenance": [],
      "collapsed_sections": [],
      "authorship_tag": "ABX9TyOYKrMhMR47O2/ePJcTvs8j",
      "include_colab_link": true
    },
    "kernelspec": {
      "name": "python3",
      "display_name": "Python 3"
    },
    "language_info": {
      "name": "python"
    }
  },
  "cells": [
    {
      "cell_type": "markdown",
      "metadata": {
        "id": "view-in-github",
        "colab_type": "text"
      },
      "source": [
        "<a href=\"https://colab.research.google.com/github/vpbatista85/DNC/blob/main/DIN%C3%82MICA_DNC_Day_2_17_07_2022.ipynb\" target=\"_parent\"><img src=\"https://colab.research.google.com/assets/colab-badge.svg\" alt=\"Open In Colab\"/></a>"
      ]
    },
    {
      "cell_type": "markdown",
      "source": [
        "# **DINÂMICA DNC - Day 2 - 17/07/2022**\n",
        "\n",
        "### Vitor Petta Batista - RID #38424\n",
        "\n",
        "\n",
        "\n",
        "\n",
        "\n",
        "\n"
      ],
      "metadata": {
        "id": "e_flXO92AwBC"
      }
    },
    {
      "cell_type": "markdown",
      "source": [
        "**ETAPA 1**"
      ],
      "metadata": {
        "id": "zT45BCzZC6HQ"
      }
    },
    {
      "cell_type": "markdown",
      "source": [
        "1. Classifique os tipos de dados das seguintes variáveis\n",
        "\n",
        "● x = 5\n",
        "\n",
        "● x = 5.0\n",
        "\n",
        "● x = 5.5\n",
        "\n",
        "● x = 'DNC'\n",
        "\n",
        "● x = ½\n",
        "\n",
        "● x = 0.5 * 2\n",
        "\n",
        "● x = 2 ** 4\n",
        "\n",
        "● x = 2+4\n",
        "\n",
        "● x = 1000000000\n",
        "\n",
        "● Peça ao usuário inputar um dado inteiro e confira o tipo dele\n",
        "\n",
        "● Peça ao usuário inputar um dado float e confira o tipo dele\n",
        "\n",
        "● Peça ao usuário inputar um dado string e confira o tipo dele\n",
        "\n",
        "● Peça ao usuário inputar um dado sem definir o tipo e confira o tipo dele"
      ],
      "metadata": {
        "id": "zlm0zVCHE12d"
      }
    },
    {
      "cell_type": "code",
      "execution_count": null,
      "metadata": {
        "colab": {
          "base_uri": "https://localhost:8080/"
        },
        "id": "mk0VqE1FAu_F",
        "outputId": "0b9fe7cd-f283-4c4d-ea9c-43c6ae673632"
      },
      "outputs": [
        {
          "output_type": "stream",
          "name": "stdout",
          "text": [
            "5 <class 'int'>\n",
            "5.0 <class 'float'>\n",
            "5.5 <class 'float'>\n",
            "DNC <class 'str'>\n",
            "0.5 <class 'float'>\n",
            "1.0 <class 'float'>\n",
            "16 <class 'int'>\n",
            "6 <class 'int'>\n",
            "1000000000 <class 'int'>\n"
          ]
        }
      ],
      "source": [
        "x=5\n",
        "print(x,type(x))\n",
        "x=5.0\n",
        "print(x,type(x))\n",
        "x=5.5\n",
        "print(x,type(x))\n",
        "x=\"DNC\"\n",
        "print(x,type(x))\n",
        "x=1/2\n",
        "print(x,type(x))\n",
        "x=0.5*2\n",
        "print(x,type(x))\n",
        "x=2**4\n",
        "print(x,type(x))\n",
        "x=2+4\n",
        "print(x,type(x))\n",
        "x=1000000000\n",
        "print(x,type(x))\n"
      ]
    },
    {
      "cell_type": "code",
      "source": [
        "entrada=input(\"Digite um dado que seja um numero inteiro: \")\n",
        "while entrada.isnumeric()==False:\n",
        "  entrada=input(\"Entrada errada, digite apenas um numero inteiro:\")\n",
        "x=int(entrada)\n",
        "print(f\"{entrada} é um numero inteiro.\")"
      ],
      "metadata": {
        "colab": {
          "base_uri": "https://localhost:8080/"
        },
        "id": "xqFJ3y3qF_Dt",
        "outputId": "b7763dbb-a4ba-4d4f-b2e3-9663e96f9392"
      },
      "execution_count": null,
      "outputs": [
        {
          "output_type": "stream",
          "name": "stdout",
          "text": [
            "Digite um dado que seja um numero inteiro: f\n",
            "Entrada errada, digite apenas um numero inteiro:2.0\n",
            "Entrada errada, digite apenas um numero inteiro:2\n",
            "2 é um numero inteiro.\n"
          ]
        }
      ]
    },
    {
      "cell_type": "code",
      "source": [
        "entrada=input(\"Digite um dado que seja um numero decimal: \")\n",
        "while type(float(entrada))!=float:\n",
        "  entrada=input(\"Entrada errada, digite apenas um numero que seja decimal:\")\n",
        "try:\n",
        "  x=float(entrada)\n",
        "  print(f\"{entrada} é um numero decimal.\")\n",
        "except:\n",
        "  print(f\"{entrada} não é um numero decimal.\")"
      ],
      "metadata": {
        "colab": {
          "base_uri": "https://localhost:8080/"
        },
        "id": "M0UBPgCPHBz6",
        "outputId": "1b6d370f-436b-4ec5-b2f6-ed349e11b3c5"
      },
      "execution_count": null,
      "outputs": [
        {
          "output_type": "stream",
          "name": "stdout",
          "text": [
            "Digite um dado que seja um numero decimal: 6\n",
            "6 é um numero decimal.\n"
          ]
        }
      ]
    },
    {
      "cell_type": "code",
      "source": [
        "entrada=input(\"Digite um dado que seja um texto: \")\n",
        "while entrada.isalpha()==False:\n",
        "  entrada=input(\"Entrada errada, digite apenas um texto:\")\n",
        "print(f\"{entrada} é um texto.\")"
      ],
      "metadata": {
        "colab": {
          "base_uri": "https://localhost:8080/"
        },
        "id": "Q3YrXwbSJTLh",
        "outputId": "9fd0a8b6-1e0d-47b1-b644-b1a12b7d56d1"
      },
      "execution_count": null,
      "outputs": [
        {
          "output_type": "stream",
          "name": "stdout",
          "text": [
            "Digite um dado que seja um texto: 56.6\n",
            "Entrada errada, digite apenas um texto:aqasdf\n",
            "aqasdf é um texto.\n"
          ]
        }
      ]
    },
    {
      "cell_type": "code",
      "source": [
        "entrada=input(\"Digite um dado: \")\n",
        "if entrada.isalpha()==True:\n",
        "  print(f\"{entrada} é um texto.\")\n",
        "elif entrada.isnumeric()==True:\n",
        "  if entrada.count(\".\")!=0:\n",
        "    print(f\"{entrada} é um numero decimal.\")\n",
        "  else:\n",
        "    print(f\"{entrada} é um numero inteiro.\")"
      ],
      "metadata": {
        "colab": {
          "base_uri": "https://localhost:8080/"
        },
        "id": "HTuIqtCFJsvJ",
        "outputId": "73fc012e-a562-48fe-8b5d-7fa2a36104f5"
      },
      "execution_count": null,
      "outputs": [
        {
          "name": "stdout",
          "output_type": "stream",
          "text": [
            "Digite um dado: 56.6\n"
          ]
        }
      ]
    },
    {
      "cell_type": "markdown",
      "source": [
        "2. Faça um print com duas linhas tracejadas acima e duas abaixo com 50 linhas\n",
        "em cada uma delas e no meio coloque \"DS05 - DNC\""
      ],
      "metadata": {
        "id": "kh39DGwWKeFO"
      }
    },
    {
      "cell_type": "code",
      "source": [
        "print(\"-\"*50)\n",
        "print(\"-\"*50)\n",
        "print(\" \"*int((50-len(\"DS05-DNC\"))/2)+\"DS05-DNC\"+\" \"*int((50-len(\"DS05-DNC\"))/2))\n",
        "print(\"-\"*50)\n",
        "print(\"-\"*50)"
      ],
      "metadata": {
        "colab": {
          "base_uri": "https://localhost:8080/"
        },
        "id": "7pmFfR5WKdvs",
        "outputId": "cb431bd4-6b7e-4392-e11d-4a1a15a21a74"
      },
      "execution_count": null,
      "outputs": [
        {
          "output_type": "stream",
          "name": "stdout",
          "text": [
            "--------------------------------------------------\n",
            "--------------------------------------------------\n",
            "                     DS05-DNC                     \n",
            "--------------------------------------------------\n",
            "--------------------------------------------------\n"
          ]
        }
      ]
    },
    {
      "cell_type": "markdown",
      "source": [
        "3. Você acabou de se formar na turma 05 de Formação em dados e\n",
        "conseguiu um emprego de um cientista de dados jr. com um salário de R\n",
        "$10.000,00 mensais. Você quer calcular quanto conseguirá guardar na\n",
        "poupança ao final do mês depois que pagar suas contas. Considere os\n",
        "dados abaixo para fazer um print igual ao que está em anexo.\n",
        "salario_cientista_de_dados = 10000.00\n",
        "parcela_bmw = 2500.45\n",
        "parcela_apartamento = 3500.50\n",
        "veterinario_romeuzinho = 500.00\n",
        "luz = 100.80\n",
        "agua = 80.35\n",
        "condominio = 800.44\n",
        "gas = 150.65\n"
      ],
      "metadata": {
        "id": "y6Ymk_kFMYBt"
      }
    },
    {
      "cell_type": "code",
      "source": [
        "salario_cientista_de_dados = 10000.00\n",
        "contas={'parcela_bmw':2500.45,'parcela_apartamento':3500.50,'veterinario_romeuzinho':500.00,'luz':100.80,'agua':80.35,'condominio':800.44,'gas':150.65}\n",
        "saldo=salario_cientista_de_dados\n",
        "print(\"*\"*50)\n",
        "print(f\"seu sálario de cientista de dados jr é de R${salario_cientista_de_dados} e seus gastos estão dispostos a seguir: \")\n",
        "for c,v in contas.items():\n",
        "  print(c,\"=\",v)\n",
        "  saldo-=v\n",
        "print()\n",
        "print(\"*\"*50)\n",
        "print(f\"O valor disponivel para colocar na poupança é de: R${saldo}\")"
      ],
      "metadata": {
        "colab": {
          "base_uri": "https://localhost:8080/"
        },
        "id": "u_zaJgSZMXZ7",
        "outputId": "2671d4ea-8052-4375-9215-0e8f4f5d914a"
      },
      "execution_count": null,
      "outputs": [
        {
          "output_type": "stream",
          "name": "stdout",
          "text": [
            "**************************************************\n",
            "seu sálario de cientista de dados jr é de R$10000.0 e seus gastos estão dispostos a seguir: \n",
            "parcela_bmw = 2500.45\n",
            "parcela_apartamento = 3500.5\n",
            "veterinario_romeuzinho = 500.0\n",
            "luz = 100.8\n",
            "agua = 80.35\n",
            "condominio = 800.44\n",
            "gas = 150.65\n",
            "\n",
            "**************************************************\n",
            "O valor disponivel para colocar na poupança é de: R$2366.81\n"
          ]
        }
      ]
    },
    {
      "cell_type": "markdown",
      "source": [
        "4. Você é um vendedor de cursos na DNC e os clientes entram em contato com você para adquirir um de\n",
        "nossos seguintes cursos:\n",
        "  1. Formação em dados\n",
        "  2. Formação em projetos\n",
        "  3. Formação em marketing\n",
        "  4. Formação em produto\n",
        "  5. Formação em tecnologia\n",
        "\n",
        " O cliente pode adquirir apenas um curso para fazer e os valores estão a seguir:\n",
        "  1. Formação_em_dados = 20000.00\n",
        "  2. Formação_em_projetos = 15000.00\n",
        "  3. Formação_em_marketing = 13000.00\n",
        "  4. Formação_em_produto = 18000.00\n",
        "  5. Formação_em_tecnologia = 19000.00\n",
        "\n",
        "Monte um código onde a primeira pergunta será \"Qual curso você quer escolher (1, 2, 3, 4, 5)?\" E de acordo\n",
        "com a escolha, o código entrará em um if e emitir a seguinte mensagem padrão \"Você escolheu o curso\n",
        "Formação em XXXXX no valor de R$ XXXXX que começará no próximo mês\".\n",
        "Caso o usuário digite um valor diferente dos dispostos, emita a seguinte mensagem\n",
        "\"Digite um valor correspondente a um curso de nossas formações \\n1-Formação em dados \\n2-Formação\n",
        "em projetos\\n3-Formação em marketing\\n4-Formação em produto\\n5-Formação em tecnologia\""
      ],
      "metadata": {
        "id": "2r_5f_0xQNHT"
      }
    },
    {
      "cell_type": "code",
      "source": [
        "cursos={'1':{'formação em dados':20000.00},\n",
        "        '2':{'formação em projetos':15000.00},\n",
        "        '3':{'formação em marketing':13000.00},\n",
        "        '4':{'formação em produto':18000.00},\n",
        "        '5':{'formação em tecnologia':19000.00}}\n",
        "p=input(\"Qual curso você quer escolher (1, 2, 3, 4, 5)?\")\n",
        "while (p in cursos.keys())==False:\n",
        "  p=input(\"Digite um valor correspondente a um curso de nossas formações \\n1-Formação em dados \\n2-Formação em projetos\\n3-Formação em marketing\\n4-Formação em produto\\n5-Formação em tecnologia\")\n",
        "for c,v in cursos[p].items():\n",
        "    print(f\"Você escolheu o curso {c} no valor de R$ {v} que começará no próximo mês\")"
      ],
      "metadata": {
        "colab": {
          "base_uri": "https://localhost:8080/"
        },
        "id": "rxpQ4_cIQM0z",
        "outputId": "28f453a4-0b33-4d52-9507-dcce98fc4362"
      },
      "execution_count": null,
      "outputs": [
        {
          "output_type": "stream",
          "name": "stdout",
          "text": [
            "Qual curso você quer escolher (1, 2, 3, 4, 5)?6\n",
            "Digite um valor correspondente a um curso de nossas formações \n",
            "1-Formação em dados \n",
            "2-Formação em projetos\n",
            "3-Formação em marketing\n",
            "4-Formação em produto\n",
            "5-Formação em tecnologia4\n",
            "Você escolheu o curso formação em produto no valor de R$ 18000.0 que começará no próximo mês\n"
          ]
        }
      ]
    },
    {
      "cell_type": "markdown",
      "source": [
        "5. O ótimo time de vendas da DNC vendeu 45 Formação em dados, 30 Formação em\n",
        "projetos, 20 Formação em marketing, 35 Formação em produto e 42 Formação em\n",
        "tecnologia em 1 mês para formar os melhores profissionais capacitados para o mercado\n",
        "de trabalho. A meta mensal é 1 milhão de reais. Calcule a receita total de vendas, a receita\n",
        "média geral e verifique se eles bateram a meta mensal utilizando as seguintes\n",
        "mensagens\n",
        "Se bateram: \"Parabéns!!! A DNC bateu a meta do mês\"\n",
        "Se não bateram: \"Esse mês não batemos a meta, porém mês que vem vamos vir mais\n",
        "forte pra recuperar!!!\"\n",
        "(Utilize as informações de preço do exercício acima)\n",
        "\n"
      ],
      "metadata": {
        "id": "lBDeAoOAWwPE"
      }
    },
    {
      "cell_type": "code",
      "source": [
        "vendas={'formação em dados':45,'formação em projetos':30,'formação em marketing':20,'formação em produto':35,'formação em tecnologia':42}\n",
        "receita_total=float()\n",
        "qtd_total=int()\n",
        "meta=1000000.00\n",
        "for c1,qtd in vendas.items():\n",
        "  for curso in cursos.values():\n",
        "    for c2,v in curso.items():\n",
        "      if c1==c2:\n",
        "       receita_total+=qtd*v\n",
        "       qtd_total+=qtd\n",
        "media=receita_total/qtd_total\n",
        "\n",
        "if receita_total>=meta:\n",
        "  print(\"Parabéns!!! A DNC bateu a meta do mês\")\n",
        "else:\n",
        "  print(\"Esse mês não batemos a meta, porém mês que vem vamos vir mais forte pra recuperar!!!\")"
      ],
      "metadata": {
        "colab": {
          "base_uri": "https://localhost:8080/"
        },
        "id": "aC6Q8mwHWvwe",
        "outputId": "0f7fafd5-c1a5-47c5-b488-b5a96c5cf087"
      },
      "execution_count": null,
      "outputs": [
        {
          "output_type": "stream",
          "name": "stdout",
          "text": [
            "Parabéns!!! A DNC bateu a meta do mês\n"
          ]
        }
      ]
    },
    {
      "cell_type": "markdown",
      "source": [
        "6. O aluno da DNC precisa fazer um código que faça a somatória de uma sequência de\n",
        "números, informando no começo do código qual a posição a somatória deve parar.\n",
        "Monte uma estrutura de repetição onde ele satisfaça esse problema."
      ],
      "metadata": {
        "id": "e10FyzSydj5X"
      }
    },
    {
      "cell_type": "code",
      "source": [
        "def soma_seq():\n",
        "  num=int(input(\"Informe em qual numero deseja parar o somatorio: \"))\n",
        "  soma=int()\n",
        "  for i in range(1,num+1):\n",
        "    soma+=i\n",
        "  return soma\n",
        "\n",
        "a=soma_seq()\n",
        "print(a)"
      ],
      "metadata": {
        "colab": {
          "base_uri": "https://localhost:8080/"
        },
        "id": "-YQxWQhPdjlE",
        "outputId": "d15e06cb-0f69-415c-e0b0-6b2644623cee"
      },
      "execution_count": null,
      "outputs": [
        {
          "output_type": "stream",
          "name": "stdout",
          "text": [
            "Informe em qual numero deseja parar o somatorio: 3\n",
            "6\n"
          ]
        }
      ]
    },
    {
      "cell_type": "markdown",
      "source": [
        "7. O aluno da DNC está navegando no spotfy e viu a possibilidade de criar umcódigo\n",
        "para quando ele digitar p a música mudará e quando ele digitar qualquer outra letra ou\n",
        "número o spotify fecha. Faça uma estrutura de repetição onde satisfaça essa condição."
      ],
      "metadata": {
        "id": "HB_JaulWfACV"
      }
    },
    {
      "cell_type": "code",
      "source": [
        "while True:\n",
        "  r=input()\n",
        "  if r==\"p\":\n",
        "    print(\"proxima musica...\")\n",
        "  else:\n",
        "    print(\"execução interrompida...\")\n",
        "    break\n"
      ],
      "metadata": {
        "colab": {
          "base_uri": "https://localhost:8080/"
        },
        "id": "AmE0trnNe_sr",
        "outputId": "8e3d0227-c7a9-4b03-b519-f8ca9d63dd92"
      },
      "execution_count": null,
      "outputs": [
        {
          "output_type": "stream",
          "name": "stdout",
          "text": [
            "p\n",
            "proxima musica...\n",
            "p\n",
            "proxima musica...\n",
            "p\n",
            "proxima musica...\n",
            "2\n",
            "execução interrompida...\n"
          ]
        }
      ]
    },
    {
      "cell_type": "markdown",
      "source": [
        "8. O aluno da DNC quer criar um código para dar parabéns para 3 pessoas do seu grupo\n",
        "de projeto, como reconhecimento de seu trabalho duro. Faça uma estrutura de repetição\n",
        "onde o usuário informa 3 nomes e printa a seguinte mensagem \"Parabéns por toda sua\n",
        "ajuda no projeto, você está sendo essencial para o resultado que estamos atingindo,\n",
        "NOME DA PESSOA\""
      ],
      "metadata": {
        "id": "-Mta2AgCf0xR"
      }
    },
    {
      "cell_type": "code",
      "source": [
        "l_p=[]\n",
        "for i in range(1,4):\n",
        "  n_p=input(f\"Digite o nome da {i}ª pessoa: \")\n",
        "  l_p.append(n_p)\n",
        "for n in l_p:\n",
        "  print(f\"Parabéns por toda sua ajuda no projeto, você está sendo essencial para o resultado que estamos atingindo, {n}!!!\")"
      ],
      "metadata": {
        "colab": {
          "base_uri": "https://localhost:8080/"
        },
        "id": "ibZ0KeC1f44_",
        "outputId": "51704062-cb84-413d-cb87-9712079f90ee"
      },
      "execution_count": null,
      "outputs": [
        {
          "output_type": "stream",
          "name": "stdout",
          "text": [
            "Digite o nome da 1ª pessoa: Ze\n",
            "Digite o nome da 2ª pessoa: Ugo\n",
            "Digite o nome da 3ª pessoa: Luiz\n",
            "Parabéns por toda sua ajuda no projeto, você está sendo essencial para o resultado que estamos atingindo, Ze!!!\n",
            "Parabéns por toda sua ajuda no projeto, você está sendo essencial para o resultado que estamos atingindo, Ugo!!!\n",
            "Parabéns por toda sua ajuda no projeto, você está sendo essencial para o resultado que estamos atingindo, Luiz!!!\n"
          ]
        }
      ]
    },
    {
      "cell_type": "markdown",
      "source": [
        "9. Um aluno da DNC tem uma certa quantidade de moedas em seu cofrinho e hoje ele\n",
        "decidiu quebrá-lo, com isso ele quer criar um programa onde ele armazena todas as\n",
        "moedas e ao final do processo ele quer saber o valor total e printar as moedas que ele\n",
        "tem na tela. Monte uma estrutura onde seja guardado os valores das moedas e imprima\n",
        "a soma delas ao final."
      ],
      "metadata": {
        "id": "UzOZS_O2hExH"
      }
    },
    {
      "cell_type": "code",
      "source": [
        "cofre_moedas={}\n",
        "cofre_moedas[\"1 centavo\"]=int(input(\"Quantas moedas de 1 centavo tem no cofre: \"))\n",
        "cofre_moedas[\"5 centavos\"]=int(input(\"Quantas moedas de 5 centavos tem no cofre: \"))\n",
        "cofre_moedas[\"10 centavos\"]=int(input(\"Quantas moedas de 10 centavos tem no cofre: \"))\n",
        "cofre_moedas[\"25 centavos\"]=int(input(\"Quantas moedas de 25 centavos tem no cofre: \"))\n",
        "cofre_moedas[\"50 centavo\"]=int(input(\"Quantas moedas de 50 centavos tem no cofre: \"))\n",
        "cofre_moedas[\"1 real\"]=int(input(\"Quantas moedas de 1 real tem no cofre: \"))\n",
        "soma=0\n",
        "print(\"*\"*50)\n",
        "print(\"Você possui a seguinte quantia: \")\n",
        "for i in cofre_moedas:\n",
        "  if i==\"1 centavo\":\n",
        "    print(f'{cofre_moedas[i]} de valor {i} = R${0.01*cofre_moedas[\"1 centavo\"]:.2f}')\n",
        "    soma=soma+(0.01*cofre_moedas[i])\n",
        "  elif i==\"5 centavos\":\n",
        "    print(f'{cofre_moedas[i]} de valor {i} = R${0.05*cofre_moedas[\"5 centavos\"]:.2f}')\n",
        "    soma+=(0.05*cofre_moedas[i])\n",
        "  elif i==\"10 centavos\":\n",
        "    print(f'{cofre_moedas[i]} de valor {i} = R${0.10*cofre_moedas[\"10 centavos\"]:.2f}')\n",
        "    soma+=(0.10*cofre_moedas[i])\n",
        "  elif i==\"25 centavos\":\n",
        "    print(f'{cofre_moedas[i]} de valor {i} = R${0.25*cofre_moedas[\"25 centavos\"]:.2f}')\n",
        "    soma+=(0.25*cofre_moedas[i])\n",
        "  elif i==\"50 centavos\":\n",
        "    print(f'{cofre_moedas[i]} de valor {i} = R${0.50*cofre_moedas[\"50 centavos\"]:.2f}')\n",
        "    soma+=(0.50*cofre_moedas[i])\n",
        "  elif i==\"1 real\":\n",
        "    print(f'{cofre_moedas[i]} de valor {i} = R${1.00*cofre_moedas[\"1 real\"]:.2f}')\n",
        "    soma+=(1.00*cofre_moedas[i])\n",
        "print(f\"Total de R${soma:.2f}\")\n",
        "\n",
        "\n"
      ],
      "metadata": {
        "colab": {
          "base_uri": "https://localhost:8080/"
        },
        "id": "SeiafWLUhIep",
        "outputId": "be1ce038-f382-4920-d692-ba910e7b39b7"
      },
      "execution_count": null,
      "outputs": [
        {
          "output_type": "stream",
          "name": "stdout",
          "text": [
            "Quantas moedas de 1 centavo tem no cofre: 10\n",
            "Quantas moedas de 5 centavos tem no cofre: 10\n",
            "Quantas moedas de 10 centavos tem no cofre: 5\n",
            "Quantas moedas de 25 centavos tem no cofre: 2\n",
            "Quantas moedas de 50 centavos tem no cofre: 10\n",
            "Quantas moedas de 1 real tem no cofre: 10\n",
            "**************************************************\n",
            "Você possui a seguinte quantia: \n",
            "10 de valor 1 centavo = R$0.10\n",
            "10 de valor 5 centavos = R$0.50\n",
            "5 de valor 10 centavos = R$0.50\n",
            "2 de valor 25 centavos = R$0.50\n",
            "10 de valor 1 real = R$10.00\n",
            "Total de R$11.60\n"
          ]
        }
      ]
    },
    {
      "cell_type": "markdown",
      "source": [
        "10. O aluno da DNC resolveu criar um dicionário com as informações dos 5 membros de\n",
        "seu grupo de projeto. Neste dicionário precisa constar Nome, RID, Idade, Cidade e Cargo\n",
        "no time de projeto. Crie um dicionário que satisfaça isso.\n"
      ],
      "metadata": {
        "id": "q4TFLqcvhJEd"
      }
    },
    {
      "cell_type": "code",
      "source": [
        "l_alunos=[]\n",
        "while True:\n",
        "  q=input(\"Deseja cadastrar um aluno no projeto?(s/n)\")\n",
        "  while q!=\"s\" and q!=\"n\":\n",
        "    q=input(\"entrada errada, digite apenas s ou n: \")\n",
        "  if q==\"n\":\n",
        "    print(\"Até breve!\")\n",
        "    break\n",
        "\n",
        "  alunos_DNC={}\n",
        "  alunos_DNC['nome']=input(\"Digite o nome do aluno: \")\n",
        "  alunos_DNC['RID']=input(\"Digite o RID do aluno: \")\n",
        "  alunos_DNC['cidade']=input(\"Digite o cidade do aluno: \")\n",
        "  alunos_DNC['cargo']=input(\"Digite o cargo do aluno: \")\n",
        "  l_alunos.append(alunos_DNC)\n",
        "\n",
        "print(l_alunos)"
      ],
      "metadata": {
        "colab": {
          "base_uri": "https://localhost:8080/"
        },
        "id": "Hr-EdB9ChLYC",
        "outputId": "ecf871ca-db7c-481c-dc5b-9e111678d112"
      },
      "execution_count": null,
      "outputs": [
        {
          "output_type": "stream",
          "name": "stdout",
          "text": [
            "Deseja cadastrar um aluno no projeto?(s/n)3\n",
            "entrada errada, digite apenas s ou n: s\n",
            "Digite o nome do aluno: Vitor\n",
            "Digite o RID do aluno: 45667\n",
            "Digite o cidade do aluno: São Paulo\n",
            "Digite o cargo do aluno: Estudante\n",
            "Deseja cadastrar um aluno no projeto?(s/n)n\n",
            "Até breve!\n",
            "[{'nome': 'Vitor', 'RID': '45667', 'cidade': 'São Paulo', 'cargo': 'Estudante'}]\n"
          ]
        }
      ]
    },
    {
      "cell_type": "markdown",
      "source": [
        "11. Crie uma função que sempre quando ela é chamada faz soma todas as notas\n",
        "(dinheiro) que você inserir na função."
      ],
      "metadata": {
        "id": "YjOJYJG3hLok"
      }
    },
    {
      "cell_type": "code",
      "source": [
        "def soma_n(*notas):\n",
        "  r=sum(notas)\n",
        "  return r\n",
        "\n",
        "soma_n(5,10,20,50,50,100)"
      ],
      "metadata": {
        "colab": {
          "base_uri": "https://localhost:8080/"
        },
        "id": "VHvLUSlUhRqY",
        "outputId": "090f7166-fe12-44ed-9c2e-55757d1157b8"
      },
      "execution_count": null,
      "outputs": [
        {
          "output_type": "execute_result",
          "data": {
            "text/plain": [
              "235"
            ]
          },
          "metadata": {},
          "execution_count": 82
        }
      ]
    }
  ]
}